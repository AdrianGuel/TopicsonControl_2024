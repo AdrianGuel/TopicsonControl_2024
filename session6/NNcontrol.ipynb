{
  "nbformat": 4,
  "nbformat_minor": 0,
  "metadata": {
    "colab": {
      "provenance": []
    },
    "kernelspec": {
      "name": "python3",
      "display_name": "Python 3"
    },
    "language_info": {
      "name": "python"
    }
  },
  "cells": [
    {
      "cell_type": "code",
      "execution_count": null,
      "metadata": {
        "id": "4FILbQO2b2gt"
      },
      "outputs": [],
      "source": [
        "import numpy as np\n",
        "import matplotlib.pyplot as plt\n",
        "import pandas as pd"
      ]
    },
    {
      "cell_type": "code",
      "source": [
        "def Scalexy(data, x0, x1, y0, y1):\n",
        "  m = (y1 - y0)/(x1 - x0)\n",
        "  b = y1 - m*x1\n",
        "  y = m*data + b\n",
        "  return y"
      ],
      "metadata": {
        "id": "sIa5wQ_zb369"
      },
      "execution_count": null,
      "outputs": []
    },
    {
      "cell_type": "code",
      "source": [
        "'''\n",
        "Controlador neuronal para una planta de segundo orden\n",
        "Planta: mass-spring-damper system\n",
        "m (d/dt)^2 x+ b (d/dt) x + kx=u\n",
        "'''\n",
        "\n",
        "#initial conditions\n",
        "e = 0\n",
        "e1 = 0\n",
        "e2 = 0\n",
        "e3 = 0\n",
        "\n",
        "y = 0\n",
        "u = 0\n",
        "\n",
        "s1 = 0\n",
        "s2 = 0\n",
        "s3 = 0\n",
        "\n",
        "\n",
        "#Inicialización aleatoria de los pesos de la capa de entrada\n",
        "w11 = np.random.random()\n",
        "w12 = np.random.random()\n",
        "w13 = np.random.random()\n",
        "w21 = np.random.random()\n",
        "w22 = np.random.random()\n",
        "w23 = np.random.random()\n",
        "w31 = np.random.random()\n",
        "w32 = np.random.random()\n",
        "w33 = np.random.random()\n",
        "\n",
        "#Inicialización aleatoria de los pesos de la capa oculta\n",
        "v1 = np.random.random()\n",
        "v2 = np.random.random()\n",
        "v3 = np.random.random()\n",
        "\n",
        "#Términos para el factor de aprendizaje dinámico\n",
        "alpha = 0.01\n",
        "eta = 0.2\n",
        "\n",
        "\n",
        "it = 0\n",
        "lim = 1e5\n",
        "\n",
        "#Set-Point\n",
        "sp = 1\n",
        "\n",
        "#Signo y parametros de la planta\n",
        "signD = 1\n",
        "x2=0\n",
        "T,k,b,m=0.1,0.5,0.3,1\n",
        "#Vectores auxiliares para graficar\n",
        "tk = []\n",
        "yk = []\n",
        "spk = []\n",
        "uk = []\n",
        "\n",
        "while it < lim:\n",
        "  #Cálculo de las sumatorias en las neuronas de entrada:\n",
        "  s1=e1*w11+e2*w21+e3*w31\n",
        "  s2=e1*w12+e2*w22+e3*w32\n",
        "  s3=e1*w13+e2*w23+e3*w33\n",
        "\n",
        "  #Cálculo de las salidas de las neuronas de entrada:9\n",
        "  h1=1/(1+np.exp(-s1))\n",
        "  h2=1/(1+np.exp(-s2))\n",
        "  h3=1/(1+np.exp(-s3))\n",
        "\n",
        "  #Cálculo de la sumatoria en la neurona de salida:\n",
        "  r=h1*v1+h2*v2+h3*v3\n",
        "\n",
        "  #Cálculo de la salida de la red\n",
        "  u=1/(1+np.exp(-r))\n",
        "\n",
        "  #Escalamiento de la señal de control, descomentar en caso necesario\n",
        "  #u=Scalexy(u,0,1,-1,1)\n",
        "\n",
        "  #Planta:\n",
        "  y+=T*x2\n",
        "  x2+=(T/m)*(-b*x2-k*y+u)\n",
        "\n",
        "  #Cálculo del error del sistema\n",
        "  e = sp - y\n",
        "\n",
        "  #Se implementó un factor de aprendizaje dinámico.\n",
        "  ra = eta #+ alpha*abs(e)\n",
        "\n",
        "  delta1 = e*(u*(1-u))\n",
        "\n",
        "  delta21=delta1*v1*(h1*(1-h1))\n",
        "  delta22=delta1*v2*(h2*(1-h2))\n",
        "  delta23=delta1*v3*(h3*(1-h3))\n",
        "\n",
        "  #Ecuaciones de optimización para los pesos:\n",
        "  v1 = v1 + ra*delta1*signD*h1\n",
        "  v2 = v2 + ra*delta1*signD*h2\n",
        "  v3 = v3 + ra*delta1*signD*h3\n",
        "\n",
        "  w11 = w11 + ra*delta21*signD*e1\n",
        "  w12 = w12 + ra*delta22*signD*e1\n",
        "  w13 = w13 + ra*delta23*signD*e1\n",
        "\n",
        "  w21 = w21 + ra*delta21*signD*e2\n",
        "  w22 = w22 + ra*delta22*signD*e2\n",
        "  w23 = w23 + ra*delta23*signD*e2\n",
        "\n",
        "  w31 = w31 + ra*delta21*signD*e3\n",
        "  w32 = w32 + ra*delta22*signD*e3\n",
        "  w33 = w33 + ra*delta23*signD*e3\n",
        "\n",
        "\n",
        "  if it%10 == 0:\n",
        "    #print(sp, y, e)\n",
        "    tk.append(it)\n",
        "    yk.append(y)\n",
        "    spk.append(sp)\n",
        "    uk.append(u)\n",
        "\n",
        "\n",
        "\n",
        "  e3 = e2\n",
        "  e1 = e\n",
        "\n",
        "  it += 1\n",
        "\n",
        "  if it%(lim/4) == 0:\n",
        "    sp = np.random.random()\n"
      ],
      "metadata": {
        "id": "ZmpeMzEkb-RX"
      },
      "execution_count": null,
      "outputs": []
    },
    {
      "cell_type": "code",
      "source": [
        "import seaborn as sns\n",
        "sns.set_theme(style=\"darkgrid\")\n",
        "fig, axs = plt.subplots(2)\n",
        "\n",
        "axs[0].plot(tk,yk, label = \"PV\", c = \"darkblue\")\n",
        "axs[0].plot(tk,spk, label = \"Set-point\", linestyle = \"--\", c = \"red\")\n",
        "\n",
        "axs[0].set(xlabel='Epocas', ylabel='PV')\n",
        "axs[0].legend()\n",
        "\n",
        "axs[1].plot(tk,uk, label = \"u\", c = \"darkblue\")\n",
        "axs[1].set(xlabel='Epocas', ylabel='u')\n",
        "axs[1].legend()"
      ],
      "metadata": {
        "colab": {
          "base_uri": "https://localhost:8080/",
          "height": 475
        },
        "id": "-fJDXwXhb5r2",
        "outputId": "6fd018e6-2ddd-43a0-e0b9-780420c98758"
      },
      "execution_count": null,
      "outputs": [
        {
          "output_type": "execute_result",
          "data": {
            "text/plain": [
              "<matplotlib.legend.Legend at 0x7d912be56650>"
            ]
          },
          "metadata": {},
          "execution_count": 7
        },
        {
          "output_type": "display_data",
          "data": {
            "text/plain": [
              "<Figure size 640x480 with 2 Axes>"
            ],
            "image/png": "[encoded data removed]"
          },
          "metadata": {}
        }
      ]
    }
  ]
}